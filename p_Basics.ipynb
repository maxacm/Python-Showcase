{
 "cells": [
  {
   "cell_type": "markdown",
   "metadata": {},
   "source": [
    "# Python Numpy Basics\n",
    "\n",
    "Max Calzada\n",
    "\n",
    "Thank you [Prof. Isken](http://www.sba.oakland.edu/faculty/index_SBA.asp?ID=46) for sharing your [video lessons](http://www.sba.oakland.edu/faculty/isken/courses/mis5470_w22/python_intro_1.html) online. I have used the material on your website to teach myself Python. I have based my work on your lessons."
   ]
  },
  {
   "cell_type": "markdown",
   "metadata": {},
   "source": [
    "### Variable Naming and Printing"
   ]
  },
  {
   "cell_type": "code",
   "execution_count": 1,
   "metadata": {},
   "outputs": [
    {
     "data": {
      "text/plain": [
       "85"
      ]
     },
     "execution_count": 1,
     "metadata": {},
     "output_type": "execute_result"
    }
   ],
   "source": [
    "#name a variable\n",
    "Mark = 85\n",
    "\n",
    "#naming a variable returns the value\n",
    "Mark"
   ]
  },
  {
   "cell_type": "code",
   "execution_count": 8,
   "metadata": {},
   "outputs": [
    {
     "data": {
      "text/plain": [
       "27"
      ]
     },
     "execution_count": 8,
     "metadata": {},
     "output_type": "execute_result"
    }
   ],
   "source": [
    "x = 2  # original value\n",
    "x += 7 # add one to x, assigning result back to x. Same as x = x + 1\n",
    "x *= 3 # multiply x by 3. Same as x = x * 3\n",
    "x # same as print(x)"
   ]
  },
  {
   "cell_type": "code",
   "execution_count": 2,
   "metadata": {},
   "outputs": [
    {
     "name": "stdout",
     "output_type": "stream",
     "text": [
      "The variable Mark = 85\n"
     ]
    }
   ],
   "source": [
    "#printing text\n",
    "print('The variable Mark =', Mark)"
   ]
  },
  {
   "cell_type": "code",
   "execution_count": 3,
   "metadata": {},
   "outputs": [
    {
     "name": "stdout",
     "output_type": "stream",
     "text": [
      "rek\n"
     ]
    }
   ],
   "source": [
    "word = 'Shrek'\n",
    "print(word[2:5])"
   ]
  },
  {
   "cell_type": "code",
   "execution_count": 4,
   "metadata": {},
   "outputs": [
    {
     "name": "stdout",
     "output_type": "stream",
     "text": [
      "True\n",
      "False\n"
     ]
    }
   ],
   "source": [
    "print('e' in word)\n",
    "print('o' in word)"
   ]
  },
  {
   "cell_type": "markdown",
   "metadata": {},
   "source": [
    "## Dataset Basics"
   ]
  },
  {
   "cell_type": "code",
   "execution_count": 3,
   "metadata": {},
   "outputs": [],
   "source": [
    "#change directory\n",
    "#%cd \"C:/Users/maxcalzada/Desktop/max_coding/isken_pcda/Downloads_IntroPythonBasics/data/\"\n",
    "#%cd C:/Users/maxcalzada/Desktop/max_coding/isken_pcda/Downloads_IntroPythonBasics/data/\n",
    "#%cd C:\\Users\\maxcalzada\\Desktop\\max_coding\\isken_pcda\\Downloads_IntroPythonBasics\\data\\\n",
    "#%cd C:\\Users\\maxcalzada\\Desktop\\max_coding\\isken_pcda\\Downloads_IntroPythonBasics\\data\\\n",
    "#none of the above work...\n",
    "import os\n",
    "#os.chdir('C:/Users/maxcalzada/Desktop/max_coding/isken_pcda/Downloads_IntroPythonBasics/data/')\n",
    "#os.chdir('C:/Users/maxcalzada/Desktop/')\n",
    "#%cd \"C:\\abc\\xyz\\\"\n",
    "\n",
    "#listing the files in the data folder\n",
    "#!ls data/*.csv\n",
    "\n",
    "#%cd d:/max_coding/\n",
    "\n"
   ]
  },
  {
   "cell_type": "code",
   "execution_count": 3,
   "metadata": {},
   "outputs": [
    {
     "name": "stdout",
     "output_type": "stream",
     "text": [
      "data/SchedDaysAdv.csv    data/inflammation-06.csv data/inflammation-12.csv\n",
      "data/inflammation-01.csv data/inflammation-07.csv data/small-01.csv\n",
      "data/inflammation-02.csv data/inflammation-08.csv data/small-02.csv\n",
      "data/inflammation-03.csv data/inflammation-09.csv data/small-03.csv\n",
      "data/inflammation-04.csv data/inflammation-10.csv\n",
      "data/inflammation-05.csv data/inflammation-11.csv\n"
     ]
    }
   ],
   "source": [
    "!ls data/*.csv"
   ]
  },
  {
   "cell_type": "code",
   "execution_count": 4,
   "metadata": {},
   "outputs": [
    {
     "data": {
      "text/plain": [
       "array([[0., 0., 1., ..., 3., 0., 0.],\n",
       "       [0., 1., 2., ..., 1., 0., 1.],\n",
       "       [0., 1., 1., ..., 2., 1., 1.],\n",
       "       ...,\n",
       "       [0., 1., 1., ..., 1., 1., 1.],\n",
       "       [0., 0., 0., ..., 0., 2., 0.],\n",
       "       [0., 0., 1., ..., 1., 1., 0.]])"
      ]
     },
     "execution_count": 4,
     "metadata": {},
     "output_type": "execute_result"
    }
   ],
   "source": [
    "#numpy\n",
    "import numpy\n",
    "# import numpy as np\n",
    "\n",
    "numpy.loadtxt(fname='data/inflammation-01.csv', delimiter=',')"
   ]
  },
  {
   "cell_type": "code",
   "execution_count": 18,
   "metadata": {},
   "outputs": [
    {
     "data": {
      "text/plain": [
       "array([[0., 0., 1., ..., 3., 0., 0.],\n",
       "       [0., 1., 2., ..., 1., 0., 1.],\n",
       "       [0., 1., 1., ..., 2., 1., 1.],\n",
       "       ...,\n",
       "       [0., 1., 1., ..., 1., 1., 1.],\n",
       "       [0., 0., 0., ..., 0., 2., 0.],\n",
       "       [0., 0., 1., ..., 1., 1., 0.]])"
      ]
     },
     "execution_count": 18,
     "metadata": {},
     "output_type": "execute_result"
    }
   ],
   "source": [
    "#name the dataset\n",
    "inflm = numpy.loadtxt(fname='data/inflammation-01.csv', delimiter=',')\n",
    "\n",
    "inflm"
   ]
  },
  {
   "cell_type": "code",
   "execution_count": 19,
   "metadata": {},
   "outputs": [
    {
     "data": {
      "text/plain": [
       "(60, 40)"
      ]
     },
     "execution_count": 19,
     "metadata": {},
     "output_type": "execute_result"
    }
   ],
   "source": [
    "#data dimensions\n",
    "inflm.shape"
   ]
  },
  {
   "cell_type": "code",
   "execution_count": 20,
   "metadata": {},
   "outputs": [
    {
     "data": {
      "text/plain": [
       "array([[0., 0., 1., 3., 1., 2., 4.],\n",
       "       [0., 1., 2., 1., 2., 1., 3.],\n",
       "       [0., 1., 1., 3., 3., 2., 6.],\n",
       "       [0., 0., 2., 0., 4., 2., 2.],\n",
       "       [0., 1., 1., 3., 3., 1., 3.]])"
      ]
     },
     "execution_count": 20,
     "metadata": {},
     "output_type": "execute_result"
    }
   ],
   "source": [
    "#Display\n",
    "#first 5 rows\n",
    "#first 7 colums\n",
    "\n",
    "inflm[:5, 0:7]\n",
    "\n",
    "#Python index begins at 0."
   ]
  },
  {
   "cell_type": "code",
   "execution_count": 21,
   "metadata": {},
   "outputs": [
    {
     "data": {
      "text/plain": [
       "array([[ 4., 14.,  7.,  8., 14., 13., 19.,  6.],\n",
       "       [11., 15., 17., 11., 12.,  7., 12.,  7.],\n",
       "       [13.,  6.,  5.,  9., 16.,  9., 19., 16.],\n",
       "       [15., 13.,  6.,  5.,  5., 18., 19.,  9.],\n",
       "       [ 5., 12., 12.,  8.,  5., 12., 10., 16.],\n",
       "       [14.,  5.,  5., 17., 13., 16., 15., 13.],\n",
       "       [13.,  7., 14., 11., 15., 14., 13.,  5.]])"
      ]
     },
     "execution_count": 21,
     "metadata": {},
     "output_type": "execute_result"
    }
   ],
   "source": [
    "#slice section of data\n",
    "\n",
    "# I want to display the 18th to 24th rows inclusive\n",
    "# and the 16th to 23rd columns inclusive\n",
    "\n",
    "section = inflm[17:24, 15:23]\n",
    "section"
   ]
  },
  {
   "cell_type": "markdown",
   "metadata": {},
   "source": [
    "### Summary Statistics"
   ]
  },
  {
   "cell_type": "code",
   "execution_count": 22,
   "metadata": {},
   "outputs": [
    {
     "data": {
      "text/plain": [
       "6.14875"
      ]
     },
     "execution_count": 22,
     "metadata": {},
     "output_type": "execute_result"
    }
   ],
   "source": [
    "inflm.mean()"
   ]
  },
  {
   "cell_type": "code",
   "execution_count": 23,
   "metadata": {},
   "outputs": [
    {
     "data": {
      "text/plain": [
       "4.613833197118566"
      ]
     },
     "execution_count": 23,
     "metadata": {},
     "output_type": "execute_result"
    }
   ],
   "source": [
    "inflm.std()"
   ]
  },
  {
   "cell_type": "code",
   "execution_count": 24,
   "metadata": {},
   "outputs": [
    {
     "data": {
      "text/plain": [
       "20.0"
      ]
     },
     "execution_count": 24,
     "metadata": {},
     "output_type": "execute_result"
    }
   ],
   "source": [
    "inflm.max()"
   ]
  },
  {
   "cell_type": "code",
   "execution_count": 25,
   "metadata": {},
   "outputs": [
    {
     "data": {
      "text/plain": [
       "0.0"
      ]
     },
     "execution_count": 25,
     "metadata": {},
     "output_type": "execute_result"
    }
   ],
   "source": [
    "inflm.min()"
   ]
  },
  {
   "cell_type": "code",
   "execution_count": 26,
   "metadata": {},
   "outputs": [
    {
     "data": {
      "image/png": "[encoded data removed]",
      "text/plain": [
       "<Figure size 432x288 with 1 Axes>"
      ]
     },
     "metadata": {
      "needs_background": "light"
     },
     "output_type": "display_data"
    }
   ],
   "source": [
    "import matplotlib.pyplot as plt \n",
    "# matplotlib is for interactive plotting\n",
    "image  = plt.imshow(inflm)\n",
    "plt.show()"
   ]
  },
  {
   "cell_type": "markdown",
   "metadata": {},
   "source": [
    "Here, I will take a subset of the `inflm` data set and manipulate it."
   ]
  },
  {
   "cell_type": "code",
   "execution_count": 31,
   "metadata": {},
   "outputs": [
    {
     "data": {
      "text/plain": [
       "array([[ 6.,  6.,  8., 12.],\n",
       "       [ 6.,  8., 10.,  8.],\n",
       "       [ 6.,  8.,  8., 12.],\n",
       "       [ 6.,  6., 10.,  6.],\n",
       "       [ 6.,  8.,  8., 12.],\n",
       "       [ 6.,  6.,  8., 10.],\n",
       "       [ 6.,  6., 10., 10.],\n",
       "       [ 6.,  6.,  8., 10.]])"
      ]
     },
     "execution_count": 31,
     "metadata": {},
     "output_type": "execute_result"
    }
   ],
   "source": [
    "inflm2 = (inflm[:8, 0:4] + 3) * 2\n",
    "inflm2"
   ]
  },
  {
   "cell_type": "markdown",
   "metadata": {},
   "source": [
    "Here, I will analyize one row specifically."
   ]
  },
  {
   "cell_type": "code",
   "execution_count": 42,
   "metadata": {},
   "outputs": [
    {
     "name": "stdout",
     "output_type": "stream",
     "text": [
      "maximum inflammation for patient 0: 17.0\n"
     ]
    },
    {
     "data": {
      "text/plain": [
       "array([ 0.,  0.,  2.,  0.,  4.,  2.,  2.,  1.,  6.,  7., 10.,  7.,  9.,\n",
       "       13.,  8.,  8., 15., 10., 10.,  7., 17.,  4.,  4.,  7.,  6., 15.,\n",
       "        6.,  4.,  9., 11.,  3.,  5.,  6.,  3.,  3.,  4.,  2.,  3.,  2.,\n",
       "        1.])"
      ]
     },
     "execution_count": 42,
     "metadata": {},
     "output_type": "execute_result"
    }
   ],
   "source": [
    "patient_3 = inflm[3, :] # 3 on the first axis, everything on the second\n",
    "\n",
    "print('maximum inflammation for patient 0:', patient_0.max())\n",
    "\n",
    "patient_3"
   ]
  },
  {
   "cell_type": "markdown",
   "metadata": {},
   "source": [
    "Next, I will compare patients 3 through 7 (or really, the 4th through 8th patients since the first patient is patient 0)."
   ]
  },
  {
   "cell_type": "code",
   "execution_count": 39,
   "metadata": {},
   "outputs": [
    {
     "name": "stdout",
     "output_type": "stream",
     "text": [
      "maximum inflammation for patients 3 through 8: 17.0\n"
     ]
    }
   ],
   "source": [
    "patient_3_7 = inflm[3:7, :]\n",
    "print('maximum inflammation for patients 3 through 8:', patient_0.max())"
   ]
  },
  {
   "cell_type": "markdown",
   "metadata": {},
   "source": [
    "More simply, I can combine steps:"
   ]
  },
  {
   "cell_type": "code",
   "execution_count": 45,
   "metadata": {},
   "outputs": [
    {
     "name": "stdout",
     "output_type": "stream",
     "text": [
      "maximum inflammation for patient 2 (the third row): 17.0\n"
     ]
    }
   ],
   "source": [
    "print('maximum inflammation for patient 2 (the third row):', inflm[3, :].max())"
   ]
  },
  {
   "cell_type": "markdown",
   "metadata": {},
   "source": [
    "In the next line of code, I am going to take the average of each *column*. This will result in a *row*."
   ]
  },
  {
   "cell_type": "code",
   "execution_count": 47,
   "metadata": {},
   "outputs": [
    {
     "name": "stdout",
     "output_type": "stream",
     "text": [
      "[5.45  5.425 6.1   5.9   5.55  6.225 5.975 6.65  6.625 6.525 6.775 5.8\n",
      " 6.225 5.75  5.225 6.3   6.55  5.7   5.85  6.55  5.775 5.825 6.175 6.1\n",
      " 5.8   6.425 6.05  6.025 6.175 6.55  6.175 6.35  6.725 6.125 7.075 5.725\n",
      " 5.925 6.15  6.075 5.75  5.975 5.725 6.3   5.9   6.75  5.925 7.225 6.15\n",
      " 5.95  6.275 5.7   6.1   6.825 5.975 6.725 5.7   6.25  6.4   7.05  5.9  ]\n"
     ]
    }
   ],
   "source": [
    "print(inflm.mean(axis=1))"
   ]
  },
  {
   "cell_type": "markdown",
   "metadata": {},
   "source": [
    "For this data set, this represents the average inflammation per patient across all days."
   ]
  },
  {
   "cell_type": "markdown",
   "metadata": {},
   "source": [
    "## Loops"
   ]
  },
  {
   "cell_type": "code",
   "execution_count": 6,
   "metadata": {},
   "outputs": [
    {
     "name": "stdout",
     "output_type": "stream",
     "text": [
      "P\n",
      "a\n",
      "s\n",
      "a\n",
      "j\n",
      "e\n",
      "r\n",
      "o\n"
     ]
    }
   ],
   "source": [
    "palabra = 'Pasajero'\n",
    "for char in palabra:\n",
    "    print(char)"
   ]
  },
  {
   "cell_type": "markdown",
   "metadata": {},
   "source": [
    "This is a loop that counts different types of letters in a string."
   ]
  },
  {
   "cell_type": "code",
   "execution_count": 11,
   "metadata": {},
   "outputs": [
    {
     "name": "stdout",
     "output_type": "stream",
     "text": [
      "There are 26 total characters - 7 vowels and 19 non-vowels.\n"
     ]
    }
   ],
   "source": [
    "# Initialize counters\n",
    "n_vowels = 0\n",
    "n_nonvowels = 0\n",
    "n_chars = 0\n",
    "\n",
    "target_string = 'Super Smash Bros: Ultimate'\n",
    "\n",
    "for letter in target_string:\n",
    "    n_chars += 1\n",
    "\n",
    "    if letter in 'aeiou':\n",
    "        n_vowels += 1\n",
    "    else:\n",
    "        n_nonvowels += 1\n",
    "\n",
    "# This is the newer way of doing formatted printing. The {} are placeholders and can\n",
    "# contain format strings.\n",
    "print('There are {} total characters - {} vowels and {} non-vowels.'.format(n_chars, n_vowels, n_nonvowels))"
   ]
  },
  {
   "cell_type": "code",
   "execution_count": 19,
   "metadata": {},
   "outputs": [
    {
     "name": "stdout",
     "output_type": "stream",
     "text": [
      "-1\n",
      "2\n",
      "5\n",
      "8\n"
     ]
    }
   ],
   "source": [
    "for i in range(4):\n",
    "    print((i * 3) - 1)"
   ]
  },
  {
   "cell_type": "code",
   "execution_count": 20,
   "metadata": {},
   "outputs": [
    {
     "name": "stdout",
     "output_type": "stream",
     "text": [
      "56\n"
     ]
    }
   ],
   "source": [
    "x = 2\n",
    "exponent = 3\n",
    "product = 7\n",
    "\n",
    "for i in range(exponent):\n",
    "    # product = product * x\n",
    "    product *= x\n",
    "    \n",
    "print(product)\n",
    "\n",
    "# The answer is 56\n",
    "# because the process is (2 * 7)^3"
   ]
  },
  {
   "cell_type": "code",
   "execution_count": 27,
   "metadata": {},
   "outputs": [
    {
     "name": "stdout",
     "output_type": "stream",
     "text": [
      "e\n",
      "el\n",
      "ell\n",
      "elli\n",
      "elliv\n",
      "ellivo\n",
      "ellivor\n",
      "ellivort\n",
      "ellivorte\n",
      "ellivorteR\n",
      "ellivorteR\n"
     ]
    }
   ],
   "source": [
    "s = 'Retroville'\n",
    "s_rev = ''\n",
    "for i in range(len(s)):\n",
    "    s_rev += s[len(s)-i-1]\n",
    "    # Print out intermediate results to check our logic\n",
    "    print(s_rev)\n",
    "\n",
    "print(s_rev)"
   ]
  },
  {
   "cell_type": "code",
   "execution_count": 48,
   "metadata": {},
   "outputs": [
    {
     "name": "stdout",
     "output_type": "stream",
     "text": [
      "first and last: 1 11\n"
     ]
    }
   ],
   "source": [
    "odds = [1, 3, 5, 7, 9, 11]\n",
    "# print('odds are:', odds)\n",
    "print('first and last:', odds[0], odds[-1])"
   ]
  },
  {
   "cell_type": "code",
   "execution_count": 41,
   "metadata": {},
   "outputs": [],
   "source": [
    "# for number in odds:\n",
    "#     print(number)\n",
    "    \n",
    "# for i in odds:\n",
    "#     print(i)\n",
    "    \n",
    "# both print() same results"
   ]
  },
  {
   "cell_type": "code",
   "execution_count": 42,
   "metadata": {},
   "outputs": [
    {
     "name": "stdout",
     "output_type": "stream",
     "text": [
      "names is originally: ['Newton', 'Darwin', 'Turing']\n",
      "final value of names: ['Newton', 'Darwin', 'Turing']\n"
     ]
    }
   ],
   "source": [
    "scientists = ['Newton', 'Darwing', 'Turing'] # typo in Darwin's name\n",
    "print('names is originally:', names)\n",
    "scientists[1] = 'Darwin' # correct the name\n",
    "print('final value of names:', names)"
   ]
  },
  {
   "cell_type": "code",
   "execution_count": 43,
   "metadata": {},
   "outputs": [
    {
     "name": "stdout",
     "output_type": "stream",
     "text": [
      "odds after adding a value: [1, 3, 5, 7, 9, 11, 407]\n"
     ]
    }
   ],
   "source": [
    "odds.append(407)\n",
    "print('odds after adding a value:', odds)"
   ]
  },
  {
   "cell_type": "code",
   "execution_count": 44,
   "metadata": {},
   "outputs": [
    {
     "name": "stdout",
     "output_type": "stream",
     "text": [
      "odds after removing the first element: [1, 3, 5, 7, 11, 407]\n"
     ]
    }
   ],
   "source": [
    "del odds[4]\n",
    "print('odds after removing the first element:', odds)"
   ]
  },
  {
   "cell_type": "code",
   "execution_count": 46,
   "metadata": {},
   "outputs": [
    {
     "name": "stdout",
     "output_type": "stream",
     "text": [
      "primes: [1, 3, 5, 7, 2]\n",
      "odds: [1, 3, 5, 7]\n"
     ]
    }
   ],
   "source": [
    "odds = [1, 3, 5, 7]\n",
    "primes = list(odds)\n",
    "primes += [2]\n",
    "print('primes:', primes)\n",
    "print('odds:', odds)"
   ]
  },
  {
   "cell_type": "code",
   "execution_count": 52,
   "metadata": {},
   "outputs": [],
   "source": [
    "# del odds[0] # removes first element\n",
    "# odds.pop(-1) # removes last element\n",
    "# odds.remove(5) # removes the value 5"
   ]
  },
  {
   "cell_type": "code",
   "execution_count": null,
   "metadata": {},
   "outputs": [],
   "source": []
  }
 ],
 "metadata": {
  "kernelspec": {
   "display_name": "Python 3",
   "language": "python",
   "name": "python3"
  },
  "language_info": {
   "codemirror_mode": {
    "name": "ipython",
    "version": 3
   },
   "file_extension": ".py",
   "mimetype": "text/x-python",
   "name": "python",
   "nbconvert_exporter": "python",
   "pygments_lexer": "ipython3",
   "version": "3.8.5"
  }
 },
 "nbformat": 4,
 "nbformat_minor": 4
}
